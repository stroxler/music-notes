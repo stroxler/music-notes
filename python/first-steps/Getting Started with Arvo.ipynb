{
 "cells": [
  {
   "cell_type": "markdown",
   "id": "8c3eb6b1-eb4e-4182-aecb-65d5a6dec0bd",
   "metadata": {},
   "source": [
    "# An Intro to Arvo (and bits of music21)\n",
    "\n",
    "This is mostly me going through the arvo [intro video](https://www.youtube.com/watch?v=qxB7r4hnEL8&t=23s).\n",
    "\n",
    "I also pulled a few ideas some other resources, for example\n",
    "- [this intro to music21, which I ought to go through fully later](https://opencomputinglab.github.io/SubjectMatterNotebooks/music/overview.html).\n",
    "- [this page in the music21 docs](https://web.mit.edu/music21/doc/usersGuide/usersGuide_02_notes.html)\n"
   ]
  },
  {
   "cell_type": "code",
   "execution_count": null,
   "id": "d033a2f7-5d14-4c71-9245-76287a778215",
   "metadata": {},
   "outputs": [],
   "source": [
    "import subprocess\n",
    "\n",
    "from music21 import environment\n",
    "from arvo import tools\n",
    "\n",
    "user_settings = environment.UserSettings()\n",
    "\n",
    "# Find musescore provided via nix flakes\n",
    "MUSESCORE_EXE = subprocess.check_output([\"which\", \"mscore.\"]).strip().decode()\n",
    "MUSESCORE_DIR = MUSESCORE_EXE.removesuffix('/bin/mscore.')\n",
    "MUSESCORE_APP = MUSESCORE_DIR + \"/Applications/mscore.app/\"\n",
    "user_settings[\"musicxmlPath\"] = MUSESCORE_APP\n",
    "user_settings[\"musescoreDirectPNGPath\"] = MUSESCORE_EXE\n",
    "\n",
    "# Find lilypond provided via nix flakes\n",
    "LILYPOND_EXE = subprocess.check_output([\"which\", \"lilypond\"]).strip().decode()\n",
    "LILYPOND_VERSION = subprocess.check_output([\"lilypond\", \"--version\"]).strip().decode().split()[2]\n",
    "user_settings[\"lilypondPath\"] = LILYPOND_EXE\n",
    "user_settings[\"lilypondVersion\"] = LILYPOND_VERSION\n",
    "\n",
    "dict(user_settings)\n"
   ]
  },
  {
   "cell_type": "code",
   "execution_count": null,
   "id": "4bf7c9f1-52a1-46de-b4c4-acedda94983b",
   "metadata": {},
   "outputs": [],
   "source": [
    "# (By default, notes are in octave 4)\n",
    "melody = tools.notes_to_stream([\"C4\", \"D4\", \"Eb\", \"E\", \"F\", \"G\", \"Bb\", \"C5\", \"D\"])\n",
    "\n",
    "# default show() will open it inline, although the format is a bit ugly (it sizes for a full page of music!)\n",
    "melody.show()"
   ]
  },
  {
   "cell_type": "code",
   "execution_count": null,
   "id": "120323aa-1297-4453-a5f9-9bc3c5687743",
   "metadata": {},
   "outputs": [],
   "source": [
    "from arvo import minimalism, isorhythm\n",
    "\n",
    "# Same melody as before\n",
    "melody = tools.notes_to_stream([\"C4\", \"D4\", \"Eb\", \"E\", \"F\", \"G\", \"Bb\", \"C5\", \"D\"])\n",
    "\n",
    "# recombine chunks of the melody into a longer stream\n",
    "melody_1 = minimalism.additive_process(melody)\n",
    "\n",
    "# redefine the rhythmic behavior via isorhythm\n",
    "durations = tools.durations_to_stream([2, 1, .5, .5, 1, .5, .5, .5, 1, .5])  # (here 1 is a quarter note)\n",
    "melody_2 = isorhythm.create_isorhythm(melody_1, durations)\n",
    "\n",
    "melody_2.show(fmt=\"musicxml\")"
   ]
  },
  {
   "cell_type": "code",
   "execution_count": null,
   "id": "69f4e5a1-2523-4b6d-95cd-dd6c623f7f8c",
   "metadata": {},
   "outputs": [],
   "source": [
    "# Do it all over again, using a backward additive process with more repetition.\n",
    "# ... There are a few other options you can try for `direction`\n",
    "\n",
    "melody = tools.notes_to_stream([\"C4\", \"D4\", \"Eb\", \"E\", \"F\", \"G\", \"Bb\", \"C5\", \"D\"])\n",
    "melody_1 = minimalism.additive_process(melody, direction=minimalism.Direction.BACKWARD, repetitions=2)\n",
    "durations = tools.durations_to_stream([2, 1, .5, .5, 1, .5, .5, .5, 1, .5])  # (here 1 is a quarter note)\n",
    "melody_2 = isorhythm.create_isorhythm(melody_1, durations)\n",
    "melody_2.show()\n",
    "\n",
    "# NOTE: I ought to submit a PR on arvo to fix the call to .flat!"
   ]
  },
  {
   "cell_type": "code",
   "execution_count": null,
   "id": "dc343d61-f802-4ca9-9f09-a8857c70561d",
   "metadata": {},
   "outputs": [],
   "source": [
    "# Midi playback avoids putting musescore in the loop\n",
    "#   You can get it natively in python - handy for little snippets - or export to a real synth\n",
    "#   Obvious options for a synth: Supercollider, Ableton\n",
    "\n",
    "from music21 import midi\n",
    "\n",
    "# So far unfortunately I haven't figured out how to *stop* playback, so be careful with this!\n",
    "#   It's one reason to prefer the musescore / musicxml approach for longer melodies (melody_2 takes a while)\n",
    "sound = midi.realtime.StreamPlayer(melody)\n",
    "sound.play()\n",
    "\n",
    "# You could run this path through any other midi player as an alternative:\n",
    "melody.write(fmt=\"midi\")"
   ]
  },
  {
   "cell_type": "code",
   "execution_count": null,
   "id": "654b7878-6af1-4cd9-81d0-564a977557e6",
   "metadata": {},
   "outputs": [],
   "source": [
    "# You can get the ability to interrupt playback by using IPython midi player:\n",
    "melody.show(fmt=\"midi\")"
   ]
  },
  {
   "cell_type": "code",
   "execution_count": null,
   "id": "1bb02125-30fb-42e1-80a8-a30f55f88509",
   "metadata": {},
   "outputs": [],
   "source": [
    "# Unfortunately this doesn't work :(\n",
    "'''\n",
    "path = melody.write(fmt=\"vexflow\")\n",
    "with open(path) as f:\n",
    "    html = f.read()\n",
    "\n",
    "from IPython.core.display import HTML\n",
    "HTML(\"<iframe>\" + html + \"</iframe>\")\n",
    "\n",
    "from IPython.display import IFrame\n",
    "IFrame(src=\"file://\" + str(path), width=700, height=600)\n",
    "'''"
   ]
  },
  {
   "cell_type": "code",
   "execution_count": null,
   "id": "11738239-20ea-484a-8ea4-d6d3487c06ce",
   "metadata": {},
   "outputs": [],
   "source": [
    "from music21 import converter\n",
    "\n",
    "# Another way to insert music is using tinyNotation\n",
    "\n",
    "melody = converter.parse('tinyNotation: 4/4 C4 D2 E4 F4 G4 A4 B4 c4')\n",
    "melody.show(fmt=\"midi\")"
   ]
  },
  {
   "cell_type": "code",
   "execution_count": null,
   "id": "ecc3b4eb-f498-47a6-a1d2-2330fbc612e1",
   "metadata": {},
   "outputs": [],
   "source": [
    "# Another demo from the video: retrograde\n",
    "from arvo import transformations\n",
    "\n",
    "melody = tools.notes_to_stream([\"C4\", \"D4\", \"Eb\", \"E\", \"F\", \"G\", \"Bb\", \"C5\", \"D\"])\n",
    "melody_1 = melody  # copy for mutation\n",
    "melody_1.append(transformations.retrograde(melody))\n",
    "melody_1.show(fmt=\"text\")"
   ]
  },
  {
   "cell_type": "code",
   "execution_count": null,
   "id": "789a3636-b5b6-43e5-9a12-66066a6ae819",
   "metadata": {},
   "outputs": [],
   "source": [
    "# need to read up on what this really is...\n",
    "from arvo import tintinnabuli\n",
    "\n",
    "melody = tools.notes_to_stream([\"C4\", \"D4\", \"Eb\", \"E\", \"F\", \"G\", \"Bb\", \"C5\", \"D\"])\n",
    "melody_1 = tintinnabuli.create_t_voice(\n",
    "    melody,\n",
    "    [\"C\", \"Eb\", \"G\"],\n",
    "    position=2,\n",
    "    direction=tintinnabuli.Direction.DOWN,\n",
    ")\n",
    "melody_1.show(fmt=\"text\")\n",
    "\n",
    "# ... by the end of the video, he actually has something that reminds me\n",
    "# of a really cool TidalCycles loop rather than a music theory thing which is interesting."
   ]
  },
  {
   "cell_type": "code",
   "execution_count": null,
   "id": "641b0a3e-098c-466e-91fd-d33e67b956f1",
   "metadata": {},
   "outputs": [],
   "source": [
    "# Sadly I think there's a version mismatch or something, lilypond support is broken\n",
    "# as of my current pipfile and flake locks; setting the version didn't seem to help :/\n",
    "'''\n",
    "melody.show(\"lilypond\")\n",
    "'''\n",
    "# This could be worth looking into eventually (maybe some OSS contributions) but for now\n",
    "# honestly the built-in show/midi + the musescore musicxml export are probably better anyway"
   ]
  },
  {
   "cell_type": "code",
   "execution_count": null,
   "id": "f89a20b8-ecdc-4b14-beb5-f1ea6b83c6ac",
   "metadata": {},
   "outputs": [],
   "source": []
  }
 ],
 "metadata": {
  "kernelspec": {
   "display_name": "Python 3 (ipykernel)",
   "language": "python",
   "name": "python3"
  },
  "language_info": {
   "codemirror_mode": {
    "name": "ipython",
    "version": 3
   },
   "file_extension": ".py",
   "mimetype": "text/x-python",
   "name": "python",
   "nbconvert_exporter": "python",
   "pygments_lexer": "ipython3",
   "version": "3.11.8"
  }
 },
 "nbformat": 4,
 "nbformat_minor": 5
}
