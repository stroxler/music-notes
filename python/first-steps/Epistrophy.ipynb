{
 "cells": [
  {
   "cell_type": "code",
   "execution_count": null,
   "id": "5f973442-1f42-4bc8-8dfb-c268b7f54283",
   "metadata": {},
   "outputs": [],
   "source": [
    "%run music21_docs_helpers.py\n",
    "initialize_music21()"
   ]
  },
  {
   "cell_type": "code",
   "execution_count": null,
   "id": "50ca9eac-fc9a-437d-802c-35e9e6d89931",
   "metadata": {},
   "outputs": [],
   "source": [
    "arrangement = parse_abc(\"\"\"\n",
    "X:1\n",
    "T: Epistrophy\n",
    "M:4/4\n",
    "L:1/8\n",
    "K:A\n",
    "% head\n",
    "| \"D7\" z2^CD^AB3     | \"C#7\" ^CD^AB3z2   | \"D7\" z2^CD^AE3        | \"C#7\" ^CD^AE3z2   |!\n",
    "| \"Eb7\" z2^DE=C'^C'3 | \"E7\" ^DE=C'^C'z2  | \"Eb7\"  z2^DE=C'^F3    | \"E7\" ^DE=C'^Fz2   |!\n",
    "| \"Eb7\" z2^DE=C'^C'3 | \"E7\" ^DE=C'^C'z2  | \"Eb7\"  z2^DE=C'^F3    | \"E7\" ^DE=C'^Fz2   |!\n",
    "| \"C#7\" z2^CD^AB3    | \"D7\" ^CD^AB3z2    | \"C#7\" z2^CD^AE3       | \"D7\" ^CD^AE3z2    |!\n",
    "| \"F#m6\" z4^C^D^F^G  | A2^GA^F2^D2       | z4C^D^F^G             | zA2^G^F2^D2       |!\n",
    "| \"B7\" z4^C^D^F^G    | B2ABA2^F2         | \"Db7\" =F_A_C'_E'2_C'3 | \"D7\" ^FA=C'E'3=C' |!\n",
    "| \"Eb7\" z2^DE=C'^C'3 | \"E7\" ^DE=C'^C'z2  | \"Eb7\"  z2^DE=C'^F3    | \"E7\" ^DE=C'^Fz2   |!\n",
    "| \"C#7\" z2^CD^AB3    | \"D7\" ^CD^AB3z2    | \"C#7\" z2^CD^AE3       | \"D7\" ^CD^AE3z2    |!\n",
    "% harmony\n",
    "| \"D7\" z5[C^F]3      | \"C#7\" z3[B,=F]3z2 | \"D7\" z5[^F,C]3        | \"C#7\" z3[=F,B,]3z2 |!\n",
    "| \"E7\" z5[D^G]3      | \"Eb7\" z3[^C=G]z2  | \"E7\" z5[^G,D]3        | \"Eb7\" z3[=G,^C]z2  |!\n",
    "| \"E7\" z5[D^G]3      | \"Eb7\" z3[^C=G]z2  | \"E7\" z5[^G,D]3        | \"Eb7\" z3[=G,^C]z2  |!\n",
    "| \"D7\" z5[C^F]3      | \"C#7\" z3[B,=F]3z2 | \"D7\" z5[^F,C]3        | \"C#7\" z3[=F,B,]3z2 |!\n",
    "| \"F#m6\" z8          | z8                | z8                    | z8                 |!\n",
    "| \"B7\"   z8          | z8                | \"Db7\" z8              | \"D7\" z8            |!\n",
    "| \"E7\" z5[D^G]3      | \"Eb7\" z3[^C=G]z2  | \"E7\" z5[^G,D]3        | \"Eb7\" z3[=G,^C]z2  |!\n",
    "| \"D7\" z5[C^F]3      | \"C#7\" z3[B,=F]3z2 | \"D7\" z5[^F,C]3        | \"C#7\" z3[=F,B,]3z2 |!\n",
    "\"\"\")\n",
    "arrangement.show()"
   ]
  },
  {
   "cell_type": "code",
   "execution_count": null,
   "id": "79a5a7d7-652d-484b-81bf-9341c714603b",
   "metadata": {},
   "outputs": [],
   "source": [
    "arrangement.show(\"musicxml\")"
   ]
  }
 ],
 "metadata": {
  "kernelspec": {
   "display_name": "Python 3 (ipykernel)",
   "language": "python",
   "name": "python3"
  },
  "language_info": {
   "codemirror_mode": {
    "name": "ipython",
    "version": 3
   },
   "file_extension": ".py",
   "mimetype": "text/x-python",
   "name": "python",
   "nbconvert_exporter": "python",
   "pygments_lexer": "ipython3",
   "version": "3.11.8"
  }
 },
 "nbformat": 4,
 "nbformat_minor": 5
}
