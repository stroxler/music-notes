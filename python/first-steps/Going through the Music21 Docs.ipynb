{
 "cells": [
  {
   "cell_type": "markdown",
   "id": "4ab41f55-cac2-4b2a-a2da-906a14d4d863",
   "metadata": {},
   "source": [
    "# Running through some more guides\n",
    "\n",
    "This is after getting an initial intro to music21 and arvo from the Youtube videos.\n",
    "\n",
    "I also started working on a `music21_helpers.py` module as I did this.\n",
    "\n",
    "I moved the code as of me doing this to `music21_docs_helpers.py` to ensure that this\n",
    "notebook remains reproducible.\n",
    "\n",
    "This example covers\n",
    "- most of [this example blog](https://opencomputinglab.github.io/SubjectMatterNotebooks/music/overview.html),\n",
    "  but I had to skip the parts that depend on fluidsynth and soundfont because I had no internet\n",
    "  when I did this\n",
    "- Parts of the music21 docs\n",
    "  - [intro to Pitch and Duration](https://web.mit.edu/music21/doc/usersGuide/usersGuide_03_pitches.html)\n",
    "  - [intro to Stream](https://web.mit.edu/music21/doc/usersGuide/usersGuide_04_stream1.html)\n",
    "  - [basics of the Music21Object](https://web.mit.edu/music21/doc/usersGuide/usersGuide_12_music21object.html)\n",
    "  - [recursive Stream basics](https://web.mit.edu/music21/doc/usersGuide/usersGuide_06_stream2.html)\n",
    "  - [basics of chords](https://web.mit.edu/music21/doc/usersGuide/usersGuide_07_chords.html)\n",
    "  - [more on the Music21Object](https://web.mit.edu/music21/doc/usersGuide/usersGuide_13_music21object2.html),\n",
    "    covering in particular derivations, context, and splitting.\n",
    "  - [intervals](https://web.mit.edu/music21/doc/usersGuide/usersGuide_18_intervals.html)\n",
    "\n",
    "\n",
    "I skipped some subsections from above, for example:\n",
    "  - the part of the chords docs on microtonals and such.\n",
    "  - [tinynotation](https://web.mit.edu/music21/doc/moduleReference/moduleTinyNotation.html)\n",
    "    in its entirety yet, although I've gone through some of the basics. A lot of this doc is on\n",
    "    customizing or extending it, which is really cool but not a starter project.\n",
    "\n",
    "I didn't get to these ones, which are likely relevant to my immediate interests:\n",
    "  - [stream iteration and filtering](https://web.mit.edu/music21/doc/usersGuide/usersGuide_26_iterators.html)\n",
    "\n",
    "I also skipped parts of the docs that I think are easy to come back to and not so important for\n",
    "me to take initial baby steps. So I covered Note, Chord, etc in detail but skipped for now the sections\n",
    "on lots of topics I would need to learn to deal with finer details of music, especially solo building:\n",
    "  - [key](https://web.mit.edu/music21/doc/usersGuide/usersGuide_15_key.html)\n",
    "  - [spanners](https://web.mit.edu/music21/doc/usersGuide/usersGuide_29_spanners.html), i.e. ties, slurs, etc\n",
    "  - [clefs](https://web.mit.edu/music21/doc/usersGuide/usersGuide_31_clefs.html)\n",
    "  - [articulations](https://web.mit.edu/music21/doc/usersGuide/usersGuide_32_articulations.html)\n",
    "  - [timeSignatures](https://web.mit.edu/music21/doc/usersGuide/usersGuide_14_timeSignatures.html)\n",
    "  - [grace notes](https://web.mit.edu/music21/doc/usersGuide/usersGuide_27_graceNotes.html)\n",
    "These are all important but not needed if my initial focus is mostly on harmony-focused ear training.\n",
    "\n",
    "I also skipped parts of the docs that seem more relevant to analysis than to generating music.\n",
    "But all of these might still be useful - taking the corpus and analyzing it to break things\n",
    "down could very well be a way to create abstract patterns for generation.\n",
    "  - [chordify](https://web.mit.edu/music21/doc/usersGuide/usersGuide_09_chordify.html), which\n",
    "    flattens all the combinations of tones in a score into chords which are easier to\n",
    "    analyze programmatically.\n",
    "  - [example 1](https://web.mit.edu/music21/doc/usersGuide/usersGuide_10_examples1.html) using\n",
    "    chordify to analyze progressions from the corpus.\n",
    "  - [example 2](https://web.mit.edu/music21/doc/usersGuide/usersGuide_20_examples2.html) does some\n",
    "    slightly more involved analyses than example 1.\n",
    "  - [Roman numeral analysis](https://web.mit.edu/music21/doc/usersGuide/usersGuide_23_romanNumerals.html),\n",
    "    which depends on both chords and keys.\n",
    "  - [example 3](https://web.mit.edu/music21/doc/usersGuide/usersGuide_30_examples3.html), a more\n",
    "    involved analysis. Some of what's going on here probably would be relevant to analyzing\n",
    "    a jazz solo actually - more so than example 2 certainly. It's really cool and I should come\n",
    "    back to it later - it's just not what I want to *start* with :)\n",
    "  - [trees](https://web.mit.edu/music21/doc/usersGuide/usersGuide_61_trees.html) seem cool from both\n",
    "    a music analysis and software design point of view, but I don't think I need them yet.\n",
    "  - [derivations - transforms reified](https://web.mit.edu/music21/doc/usersGuide/usersGuide_17_derivations.html)\n",
    "    It's kind of cool how this is designed, but I am not immediately seeing a use for this so skipping for now,\n",
    "    can come back to it; the basics of derivations were covered elsewhere anyway.\n",
    "  - [mistakes](https://web.mit.edu/music21/doc/developerReference/startingOver.html) is an interesting\n",
    "    read; probably most important if I decided to try to make my own little library based on some\n",
    "    combination of music21, Euterpea, overtone + leipzig, or other libraries.\n",
    "    - Making a Rust library focused on immutable data would be pretty interesting if I could figure\n",
    "      out how to bind it in Python; it would almost certainly be fast compared to music21 and I\n",
    "      think trying to do this sort of thing from Haskell or Ocaml is natural."
   ]
  },
  {
   "cell_type": "code",
   "execution_count": null,
   "id": "988bad6c-6c30-434c-8fbf-df589b978698",
   "metadata": {},
   "outputs": [],
   "source": [
    "%run music21_docs_helpers.py\n",
    "\n",
    "initialize_music21()"
   ]
  },
  {
   "cell_type": "code",
   "execution_count": null,
   "id": "97b2ec50-f981-402a-bd8b-667b35c18869",
   "metadata": {},
   "outputs": [],
   "source": [
    "%run music21_docs_helpers.py\n",
    "\n",
    "from music21 import (\n",
    "    scale,\n",
    "    converter,\n",
    "    chord,\n",
    ")\n",
    "from music21.note import Note\n",
    "from music21.stream import Stream, Part, Voice\n",
    "from music21.duration import Duration\n",
    "\n",
    "bassline = parse_mtn(\"\"\"\n",
    "    c, b-,, a,, e-,\n",
    "    D, a-,, g,,  d-,\n",
    "\"\"\")\n",
    "# bassline.show(\"musicxml\")\n",
    "bassline.show(\"text\")"
   ]
  },
  {
   "cell_type": "code",
   "execution_count": null,
   "id": "d25f6f9c-153d-4a10-9e1e-882d40e9beb5",
   "metadata": {},
   "outputs": [],
   "source": []
  },
  {
   "cell_type": "code",
   "execution_count": null,
   "id": "e83c20ce-2767-4d2b-8138-9a5cd33c6f2e",
   "metadata": {},
   "outputs": [],
   "source": [
    "# Some guesses about the meaning of abc notation:\n",
    "# M: 4/4 is the meter\n",
    "# L: 1/8 means one unit of \"abc\" time is an 8th note\n",
    "# K: C means the key is C\n",
    "#    ...notes are relative to this key, so far I haven't figured out accidentals\n",
    "#\n",
    "# Notes with octaves are in a kind of hybrid of lily and tinynotation:\n",
    "# - each suffix of `'` or `,` will raise / lower an octave\n",
    "# - but also, capitals start in octave 4 and lowercase in octave 5\n",
    "#\n",
    "# I don't really have a clear guess for what `V:` and `X:` are;\n",
    "# I would have guessed that `V:` means \"voice\" but the output doesn't\n",
    "# appear to be mutli-voice when there are multiple V: labels.\n",
    "#\n",
    "# You don't have to include any spaces between notes, I find it\n",
    "# helpful to visualize as a newbie but they are optional.\n",
    "#\n",
    "converter.parse('''\n",
    "X: 1\n",
    "T: Blue Bells of Scotland\n",
    "M: 4/4\n",
    "L: 1/8\n",
    "K: F\n",
    "V:R\n",
    "G2 | c4 B2 A2 | G4 A2 b c | z8 | z4 z2 G2 |\n",
    "V:R\n",
    "   | c4 B2 A2 | G4 A2 B c | z8 | z8 |\n",
    "V:R\n",
    "z8 | c4 G2 B c | B2 G2 A2 B2 | G4 A2 B2 |\n",
    "V:R\n",
    "c4 B2 A2 | G4 A2 B c | z8 | z6     |]\n",
    "''', format=\"abc\")"
   ]
  },
  {
   "cell_type": "code",
   "execution_count": null,
   "id": "35c5baf3-c7a3-459c-8a4b-0bf3449705f4",
   "metadata": {},
   "outputs": [],
   "source": [
    "%run music21_docs_helpers.py\n",
    "\n",
    "melody = stream.Stream([\n",
    "    mn(\"C4\", .5),\n",
    "    mr(1),\n",
    "    mn(\"E-4\", .5),\n",
    "    mr(2),\n",
    "    mn(\"G4\", .5),\n",
    "    mr(1),\n",
    "    mn(\"B-4\", .5),\n",
    "    mr(2),\n",
    "])\n",
    "\n",
    "# I'm not yet sure when a melody is directly iterable or not; this particular\n",
    "# one is. Let's peek at the data using a match:\n",
    "#\n",
    "for e in melody:\n",
    "    match e:\n",
    "        case Note() as n:\n",
    "            print(\"Note: \",\n",
    "                  n.pitch.nameWithOctave,\n",
    "                  n.pitch.name, n.pitch.step, n.pitch.octave,\n",
    "                  n.pitch.accidental, n.pitch.pitchClass,\n",
    "                  n.duration)\n",
    "        case Rest() as r:\n",
    "            print(\"Rest: \", r.duration)\n",
    "\n",
    "# You can transpose an entire stream.\n",
    "#\n",
    "melody.transpose(\"m3\").show(\"text\")"
   ]
  },
  {
   "cell_type": "code",
   "execution_count": null,
   "id": "89364d96-5f83-4da3-ba24-92934795a82a",
   "metadata": {},
   "outputs": [],
   "source": [
    "# An alternate way to get just one kind of thing.\n",
    "#\n",
    "# Note: this doesn't operate recursively, only on the top level.\n",
    "for n in melody.getElementsByClass([note.Note]):\n",
    "    print(n)"
   ]
  },
  {
   "cell_type": "code",
   "execution_count": null,
   "id": "6e6010ad-5252-4a5f-983d-e144228f7b2f",
   "metadata": {},
   "outputs": [],
   "source": [
    "# Grab elements by time offsets\n",
    "#\n",
    "# It uses only the start time to decide what to include.\n",
    "#\n",
    "melody.getElementsByOffset(1.5, 6).show(\"text\")"
   ]
  },
  {
   "cell_type": "code",
   "execution_count": null,
   "id": "54a11758-f519-46c6-82c2-69769f72bd0d",
   "metadata": {},
   "outputs": [],
   "source": [
    "# Offset is weirdly an attribute of notes themselves\n",
    "#\n",
    "# There must be mutation going on under the hood! This explains some odd behaviors,\n",
    "# e.g. you can't put two copies of the same note into a stream.\n",
    "#\n",
    "for e in melody.getElementsByOffset(1.5, 6):\n",
    "    print(e.getOffsetBySite(melody))"
   ]
  },
  {
   "cell_type": "code",
   "execution_count": null,
   "id": "fbd2fc40-f302-409c-bca3-80e00e0cbff3",
   "metadata": {},
   "outputs": [],
   "source": [
    "new_melody = stream.Stream([\n",
    "    mn(\"C4\", 4),\n",
    "    melody,\n",
    "])\n",
    "new_melody.show(\"text\")\n",
    "\n"
   ]
  },
  {
   "cell_type": "markdown",
   "id": "d2e93fbe-42d4-40a8-a85b-7837aec74216",
   "metadata": {},
   "source": [
    "Some notes on the class hierarch:\n",
    "\n",
    "- Pitch and Duration stand more or less alone\n",
    "\n",
    "- Anything you can put in a Stream is a Music21Object\n",
    "  - Streams, including Parts and Voices\n",
    "  - GeneralNote\n",
    "    - Note\n",
    "    - Rest\n",
    "  - miscellanious other things like Clefs KeySignatures, TimeSignatures\n",
    "\n",
    "Music21Objects have some special things. One of these is an `id` attribute,\n",
    "which by default is the Python id but can be manually set (and often is, in scores loaded\n",
    "from `xml` to make the `stream.getElementById` method easy to use (analogy to html function!).\n",
    "\n",
    "They also have a set of `.groups`, which are sort of analogous to classes in html,\n",
    "it's a set of labels that can be shared across ids.\n",
    "\n",
    "They hold a handle to the most recently used `Stream` containing them as `.activeSite`,\n",
    "and they make `thing.getOffsetBySite(thing.activeSite)` available at `.offset`, although\n",
    "it's probably better to be explicit and use `.getOffsetBySite`.\n",
    "\n",
    "A second use of `.offset` is more handy: if you create a new Music21Object that is *not*\n",
    "part of a stream already, you can *set* `.offset` and then use `stream.insert` to insert\n",
    "it into any stream at that offset.\n",
    "\n",
    "They have a `.priority` that can be used to break ties in offset between elements when\n",
    "ordering those elements; not sure how often this is useful. It can be any integer (including\n",
    "negative), and lower numbers are higher priority.\n",
    "\n",
    "\n",
    "\n"
   ]
  },
  {
   "cell_type": "code",
   "execution_count": null,
   "id": "373e5447-a9bb-4ba8-940e-7fde86e98a21",
   "metadata": {},
   "outputs": [],
   "source": [
    "coltrane_phrase = converter.parse(\"\"\"tinyNotation:\n",
    "c8 d e g\n",
    "f8 g a c'\n",
    "c8 d e g\n",
    "f8 g a c'\n",
    "\"\"\")\n",
    "\n",
    "# How do we recurse a nested Stream? Like this!\n",
    "for e in coltrane_phrase.recurse():\n",
    "    print(e.offset, e)"
   ]
  },
  {
   "cell_type": "code",
   "execution_count": null,
   "id": "7f87e3fb-c3ac-4a69-9741-e5d9794f5141",
   "metadata": {},
   "outputs": [],
   "source": [
    "# If we don't care about the nesting, we can just use .flatten:\n",
    "for e in coltrane_phrase.flatten():\n",
    "    print(e.offset, e)"
   ]
  },
  {
   "cell_type": "code",
   "execution_count": null,
   "id": "6d906037-8719-4d6c-a2eb-50c9f1c5e610",
   "metadata": {},
   "outputs": [],
   "source": [
    "# A Chord is a Music21Object (so it's more like a Note than like a Pitch)\n",
    "#\n",
    "c_minor = chord.Chord([\"C4\",\"G4\",\"E-5\"], duration=duration.Duration(2))\n",
    "print(c_minor.root())\n",
    "print(c_minor.bass())\n",
    "print(c_minor.duration)\n",
    "print(c_minor.pitches)\n",
    "print(c_minor.isMajorTriad())\n",
    "print(c_minor.inversion())\n",
    "print(c_minor.third)\n",
    "print(c_minor.seventh)\n",
    "\n",
    "print()\n",
    "\n",
    "c_minor_2i = chord.Chord([\"G4\",\"C5\", \"E-5\"], duration=duration.Duration(2))\n",
    "print(c_minor_2i.root())\n",
    "print(c_minor_2i.bass())\n",
    "print(c_minor_2i.duration)\n",
    "print(c_minor_2i.pitches)\n",
    "print(c_minor_2i.isMajorTriad())\n",
    "print(c_minor_2i.inversion())\n",
    "print(c_minor_2i.third)\n",
    "print(c_minor_2i.seventh)\n",
    "\n"
   ]
  },
  {
   "cell_type": "code",
   "execution_count": null,
   "id": "9c8c3fd4-c3ea-4c58-ac9d-99aeca4fdd61",
   "metadata": {},
   "outputs": [],
   "source": [
    "# You can mutate chords; I probably need to build functional wrappers for this :/\n",
    "d_major = chord.Chord('D4 F#4 A4')\n",
    "d_major.remove(\"F#4\")\n",
    "d_major.add(\"F#5\")\n",
    "d_major"
   ]
  },
  {
   "cell_type": "code",
   "execution_count": null,
   "id": "dac10c4a-c1bc-4267-acd5-19dd6910c2b1",
   "metadata": {},
   "outputs": [],
   "source": [
    "# You can make these mutate with `inplace=True` but ick\n",
    "#\n",
    "print(d_major.closedPosition())\n",
    "print(c_minor_2i.closedPosition())"
   ]
  },
  {
   "cell_type": "code",
   "execution_count": null,
   "id": "f51e6f4e-f083-4455-a4b6-178b96bd0cb7",
   "metadata": {},
   "outputs": [],
   "source": [
    "print(d_major.commonName, \"|\", c_minor_2i.commonName)\n",
    "print(d_major.pitchedCommonName, \"|\", c_minor_2i.pitchedCommonName)\n",
    "print(d_major.fullName, \"|\", c_minor_2i.fullName)"
   ]
  },
  {
   "cell_type": "code",
   "execution_count": null,
   "id": "75cbfed3-cf75-4ba8-a19d-602b627bb083",
   "metadata": {},
   "outputs": [],
   "source": [
    "# You can create a chord from notes, even though this is less intuitively correct\n",
    "#\n",
    "# If you do, the duration of the first note wins\n",
    "\n",
    "d = note.Note('D4')\n",
    "d.duration.type = 'eighth'\n",
    "fSharp = note.Note('F#4')\n",
    "a = note.Note('A5')\n",
    "a.duration.type = 'half'\n",
    "d_major_from_notes = chord.Chord([d, fSharp, a])\n",
    "\n",
    "print(d_major_from_notes, d_major_from_notes.duration)"
   ]
  },
  {
   "cell_type": "code",
   "execution_count": null,
   "id": "72341340-c5ba-4af8-a949-f2be064ecacf",
   "metadata": {},
   "outputs": [],
   "source": [
    "# derivations: music21's internal bookkeeping of objects derived from others via transformations.\n",
    "#\n",
    "my_note0 = note.Note(\"C\", duration=duration.Duration(3))\n",
    "print(my_note0.derivation)\n",
    "\n",
    "my_note1 = my_note0.transpose(\"m3\")\n",
    "print(my_note1.derivation)\n",
    "\n",
    "my_note2 = my_note1.transpose(\"M3\")\n",
    "print(my_note2.derivation)\n",
    "\n",
    "# You can follow derivations backward but not forward.\n",
    "#\n",
    "# Combined with mutation, this potentially allows you to transform parents from\n",
    "# children (I'm not sure this is a good thing really, but you can).\n",
    "for n in my_note2.derivation.chain():\n",
    "    print(n)"
   ]
  },
  {
   "cell_type": "code",
   "execution_count": null,
   "id": "70d36883-7e4c-406c-b04d-54e0e80aabfb",
   "metadata": {},
   "outputs": [],
   "source": [
    "# In some contexts (it mainly works when a note has a single cannonical Stream it lives in\n",
    "# *and* that stream is made of measures) a note has a measureNumber you can figure out\n",
    "n = note.Note('C')\n",
    "m = stream.Measure()\n",
    "m.number = 7\n",
    "m.append(n)\n",
    "print(\"n's measure number is\", n.measureNumber)\n",
    "#\n",
    "# (the measure will be `None` if there's no measure context)\n",
    "\n",
    "# It also has a seconds duration you can figure out, but only if the stream includes a tempo marker:\n",
    "from music21 import tempo\n",
    "m.insert(0, tempo.MetronomeMark('Allegro', 120))\n",
    "print(\"n's quarterLength and seconds are\", n.quarterLength, n.seconds)\n",
    "#\n",
    "# (the seconds will be `nan` if there's no tempo context)"
   ]
  },
  {
   "cell_type": "code",
   "execution_count": null,
   "id": "4b72f275-cee2-4750-b252-402194100c55",
   "metadata": {},
   "outputs": [],
   "source": [
    "# In addition to the `getOffsetBySite`, there's also a mutation function `setOffsetBySite`\n",
    "n = note.Note()\n",
    "s1 = stream.Stream(id='s1')\n",
    "s1.insert(5, n)  # (remember rests aren't auto-inserted, so we need to stick this after a bar line for visibility)\n",
    "n.getOffsetBySite(s1)\n",
    "\n",
    "# s1.show()  # the note is in the 2nd bar\n",
    "\n",
    "n.setOffsetBySite(s1, 8)  # (move it to after the next bar line)\n",
    "n.getOffsetBySite(s1)\n",
    "\n",
    "# s1.show()  # the note is in the 3rd bar"
   ]
  },
  {
   "cell_type": "code",
   "execution_count": null,
   "id": "f2087bd1-da57-4e9b-a9e9-bc3dd29b547c",
   "metadata": {},
   "outputs": [],
   "source": [
    "# Analyzing upward and leftward through contexts using .getContextByClass...\n",
    "#\n",
    "# This function looks to the left and upward for contexts that affect the current object,\n",
    "# and can use that to answer all kinds of questions\n",
    "from music21 import corpus, key, meter, note\n",
    "\n",
    "bach = corpus.parse('bwv66.6')\n",
    "lastNote = bach.recurse().getElementsByClass(note.Note).last()\n",
    "lastNote"
   ]
  },
  {
   "cell_type": "code",
   "execution_count": null,
   "id": "d8d33f21-0212-48db-8a4a-bd75e41d28de",
   "metadata": {},
   "outputs": [],
   "source": [
    "lastNote.getContextByClass(key.KeySignature)"
   ]
  },
  {
   "cell_type": "code",
   "execution_count": null,
   "id": "29d26612-5706-44e9-bc8c-826b5f7aa2c3",
   "metadata": {},
   "outputs": [],
   "source": [
    "lastNote.getContextByClass(meter.TimeSignature)"
   ]
  },
  {
   "cell_type": "code",
   "execution_count": null,
   "id": "8c8584d7-054a-4ea5-8ddd-45f2693d7c1c",
   "metadata": {},
   "outputs": [],
   "source": [
    "# The .contextSites() method is sort of similar, but only gives sites (i.e.\n",
    "# containing streams) as opposed to search-to-the-left type contexts such as\n",
    "# key and time signatures.\n",
    "#\n",
    "# This is what powers `.measureNumber` under the hood, since it can search upward\n",
    "# to the containing `Measure` site.\n",
    "#\n",
    "for cs in lastNote.contextSites():\n",
    "    print(cs)"
   ]
  },
  {
   "cell_type": "code",
   "execution_count": null,
   "id": "2169dd7c-9d63-4616-9c10-af3b1a9bdaf9",
   "metadata": {},
   "outputs": [],
   "source": [
    "# splitting - one of the magics of splitting is that it automatically handles lots of tags\n",
    "# such as articulations and expressions:\n",
    "from music21 import articulations, expressions\n",
    "\n",
    "n = note.Note('C#5')\n",
    "n.duration.type = 'whole'\n",
    "n.articulations = [articulations.Staccato(), articulations.Accent()]\n",
    "n.lyric = 'hi!'\n",
    "n.expressions = [expressions.Mordent(), expressions.Trill(), expressions.Fermata()]\n",
    "#  n.show()   # it's a single whole note at this point\n",
    "\n",
    "splitTuple = n.splitAtQuarterLength(3.0)\n",
    "print(splitTuple, type(splitTuple))  # it looks like a plain tuple but it's not\n",
    "s = stream.Stream()\n",
    "s.append(splitTuple)   # you can put tuples of notes into streams; I think they always get tied\n",
    "s.show(\"text\")\n",
    "\n",
    "# annoyingly, this is a runtime error - only `append` handles split tuples; it encourages\n",
    "# mutation-based construction which I'm not crazy about.\n",
    "try:\n",
    "    stream.Stream([splitTuple])\n",
    "except:\n",
    "    print(\"ignoring error\")"
   ]
  },
  {
   "cell_type": "code",
   "execution_count": null,
   "id": "55bf5923-fd90-49a4-92ca-3e42c4e81747",
   "metadata": {},
   "outputs": [],
   "source": [
    "from music21 import interval\n",
    "\n",
    "my_interval = interval.Interval(\"P5\")\n",
    "print(my_interval.name)\n",
    "print(my_interval.niceName)\n",
    "print(my_interval.semitones)\n",
    "print(my_interval.isStep)  # true for 2nds\n",
    "print(my_interval.isConsonant())  # late 19th century rules on this\n",
    "print(my_interval.complement)\n",
    "print(my_interval.intervalClass)  # the \"number\" part of the interval\n",
    "print(my_interval.reverse())  # negative intervals are distinct from positive\n",
    "print(my_interval.cents)  # 100 * semitones"
   ]
  },
  {
   "cell_type": "code",
   "execution_count": null,
   "id": "fe205c53-ede6-4a2e-9825-1548816c4714",
   "metadata": {},
   "outputs": [],
   "source": [
    "# An interval can be abstract like the one above, or can have distinct pitches as endpoints\n",
    "pitched_interval = interval.Interval(\"M6\")\n",
    "pitched_interval.noteStart = note.Note('B4')\n",
    "print(pitched_interval.noteEnd)"
   ]
  },
  {
   "cell_type": "code",
   "execution_count": null,
   "id": "bf53051c-3f8d-4dd3-bd9b-21916cd248b5",
   "metadata": {},
   "outputs": [],
   "source": [
    "# intervals can transpose things, most of those things have a .transpose method;\n",
    "# the latter is porbably easier to use since it is more uniform across things:\n",
    "# What can we transpose: Pitches, Notes, Chords, Streams\n",
    "(\n",
    "    (my_interval.transposeNote(note.Note('C5')),\n",
    "     pitched_interval.transposePitch(pitch.Pitch('C5'))),  # (a pitched interval can still be used abstractly)\n",
    "    (note.Note('D5').transpose(my_interval),\n",
    "     pitch.Pitch('D5').transpose(my_interval)),\n",
    "    # chords and streams also have a .transpose\n",
    "    (chord.Chord(\"C E G\").transpose(my_interval),\n",
    "     converter.parse(\"tinyNotation: 4/4 c4 d\").transpose(\"m2\"))\n",
    ")"
   ]
  },
  {
   "cell_type": "code",
   "execution_count": null,
   "id": "3ea04e7f-549a-4461-b104-1253859cc50a",
   "metadata": {},
   "outputs": [],
   "source": [
    "# pitched intervals can still be used with abstract operations, they just carry extra data\n",
    "pitched_interval.transposeNote(note.Note('C5'))"
   ]
  },
  {
   "cell_type": "code",
   "execution_count": null,
   "id": "40ef8d07-9d3a-4984-926a-ad394df2c5e2",
   "metadata": {},
   "outputs": [],
   "source": [
    "# intervals of more than an octave have a bunch of other properties of interest for pretty printing\n",
    "i2 = interval.Interval('P-12')\n",
    "i2.simpleName, i2.directedSimpleName, i2.simpleNiceName, i2.directedSimpleNiceName\n"
   ]
  },
  {
   "cell_type": "code",
   "execution_count": null,
   "id": "cb86ce6f-c1c4-4137-ab1d-63af28e82992",
   "metadata": {},
   "outputs": [],
   "source": [
    "# You can also use semitone counts for intervals; you get default names in the ambiguous case (d5 over a4 here)\n",
    "# You can tell a note was made this way with `.implicitDiatonic`\n",
    "interval.Interval(6).name, interval.Interval(6).niceName, interval.Interval(6).implicitDiatonic"
   ]
  },
  {
   "cell_type": "code",
   "execution_count": null,
   "id": "6c4eb52e-5093-4004-9ba6-898a73caab3c",
   "metadata": {},
   "outputs": [],
   "source": [
    "# you can do up to 3 d/D or a/A for crazy intervals; probably not useful very often!\n",
    "interval.Interval(\"aaaa6\")\n",
    "# ... I guess augmented 6 is a thing in classical theory"
   ]
  },
  {
   "cell_type": "code",
   "execution_count": null,
   "id": "bf613ffb-a3c0-499e-90df-7af25069b2e8",
   "metadata": {},
   "outputs": [],
   "source": [
    "# you can construct a pitched interval from the start and end Pitch or Note; it lets you mix and match\n",
    "interval.Interval(pitch.Pitch(\"C4\"), note.Note(\"F4\"))"
   ]
  },
  {
   "cell_type": "code",
   "execution_count": null,
   "id": "43405baa-d24c-4f34-9c81-285ff177770c",
   "metadata": {},
   "outputs": [],
   "source": [
    "# interval arithmetic is a thing, but is not lifted into Python syntax\n",
    "i1 = interval.Interval('P5')\n",
    "i2 = interval.Interval('M3')\n",
    "interval.add([i1, i2]), interval.subtract([i1, i2])"
   ]
  },
  {
   "cell_type": "code",
   "execution_count": null,
   "id": "bf7fcb66-37d4-4d82-ac33-133b9f6aa2d7",
   "metadata": {},
   "outputs": [],
   "source": [
    "# You can also just pass constructor args to add and it will handle them implicitly\n",
    "# ... W and H are puns for M2 and m2\n",
    "interval.add([\"W\", \"W\", 1, 2, \"M2\", \"W\", \"H\"])"
   ]
  },
  {
   "cell_type": "code",
   "execution_count": null,
   "id": "aa1a3f94-c236-473a-83e2-093462821f5b",
   "metadata": {},
   "outputs": [],
   "source": [
    "# The \"range\" analysis on a stream gives you a pitched interval,\n",
    "# which could be pretty handy\n",
    "s = converter.parse('4/4 c4 d e f# g# a# g f e1', format=\"tinyNotation\")\n",
    "srange = s.analyze(\"range\")\n",
    "srange.niceName, srange.noteStart, srange.noteEnd"
   ]
  },
  {
   "cell_type": "code",
   "execution_count": null,
   "id": "6c18b87d-7ff6-4939-bd0f-ecb74b18423c",
   "metadata": {},
   "outputs": [],
   "source": [
    "# There is some internal bookeeping of the diatonic vs chromatic parts of an interval\n",
    "# I doubt this will be relevant to my end use very often\n",
    "my_interval.diatonic, my_interval.chromatic"
   ]
  },
  {
   "cell_type": "code",
   "execution_count": null,
   "id": "916d6820-9c67-4e99-acc8-9dca063240da",
   "metadata": {},
   "outputs": [],
   "source": [
    "# GenericInterval is actually very useful for scalar operations, it\n",
    "# refers to only the intervalClass, not the degree, and can be used to do things\n",
    "# like \"transpose up a third in the given key\".\n",
    "#\n",
    "# This only works out of the box if you provide a key signature (and it will\n",
    "# operate relative to that key signature).\n",
    "#\n",
    "# I'm not yet sure if there's an easy way to apply this to a scale, as an\n",
    "# alternative to the counting exercise from the youtube tutorial.\n",
    "\n",
    "s = converter.parse(\"tinyNotation: 4/4 d4 e f f# g1 a-4 g b- a c'1\")\n",
    "s.measure(1).insert(0, key.Key('G'))\n",
    "s.measure(3).insert(0, key.Key('c'))\n",
    "\n",
    "s.transpose(interval.GenericInterval(\"Third\")).show(\"text\")"
   ]
  },
  {
   "cell_type": "code",
   "execution_count": null,
   "id": "eccb2f49-93be-459f-9b18-a918d2c85d0d",
   "metadata": {},
   "outputs": [],
   "source": []
  }
 ],
 "metadata": {
  "kernelspec": {
   "display_name": "Python 3 (ipykernel)",
   "language": "python",
   "name": "python3"
  },
  "language_info": {
   "codemirror_mode": {
    "name": "ipython",
    "version": 3
   },
   "file_extension": ".py",
   "mimetype": "text/x-python",
   "name": "python",
   "nbconvert_exporter": "python",
   "pygments_lexer": "ipython3",
   "version": "3.11.8"
  }
 },
 "nbformat": 4,
 "nbformat_minor": 5
}
