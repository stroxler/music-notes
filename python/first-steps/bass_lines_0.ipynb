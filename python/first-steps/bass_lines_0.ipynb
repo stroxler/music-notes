{
 "cells": [
  {
   "cell_type": "code",
   "execution_count": 1,
   "id": "34db5461-17c3-4719-8938-3c66c5f85b86",
   "metadata": {},
   "outputs": [
    {
     "data": {
      "text/plain": [
       "{'directoryScratch': None,\n",
       " 'lilypondPath': PosixPath('/nix/store/y017wa4qn8dyjd2sjq6q4rldr2yy8mrc-lilypond-2.24.2/bin/lilypond'),\n",
       " 'lilypondVersion': '2.24.2',\n",
       " 'lilypondFormat': 'pdf',\n",
       " 'lilypondBackend': 'ps',\n",
       " 'musicxmlPath': PosixPath('/nix/store/b8pajm2klsq44al4500b5ycg2q9hrrr3-musescore-4.1.1/Applications/mscore.app'),\n",
       " 'midiPath': PosixPath('/Applications/GarageBand.app'),\n",
       " 'graphicsPath': PosixPath('/System/Applications/Preview.app'),\n",
       " 'vectorPath': PosixPath('/System/Applications/Preview.app'),\n",
       " 'pdfPath': PosixPath('/System/Applications/Preview.app'),\n",
       " 'braillePath': None,\n",
       " 'musescoreDirectPNGPath': PosixPath('/nix/store/b8pajm2klsq44al4500b5ycg2q9hrrr3-musescore-4.1.1/bin/mscore.'),\n",
       " 'showFormat': 'musicxml',\n",
       " 'writeFormat': 'musicxml',\n",
       " 'ipythonShowFormat': 'ipython.musicxml.png',\n",
       " 'autoDownload': 'ask',\n",
       " 'debug': 0,\n",
       " 'warnings': '1',\n",
       " 'localCorpusSettings': LocalCorpusSettings([]),\n",
       " 'localCorporaSettings': {},\n",
       " 'manualCoreCorpusPath': None,\n",
       " 'localCorpusPath': None}"
      ]
     },
     "execution_count": 1,
     "metadata": {},
     "output_type": "execute_result"
    }
   ],
   "source": [
    "%run music21_docs_helpers.py\n",
    "initialize_music21()"
   ]
  },
  {
   "cell_type": "code",
   "execution_count": 2,
   "id": "875d056e-9e64-4653-8db6-14bf50a9b806",
   "metadata": {},
   "outputs": [
    {
     "name": "stdout",
     "output_type": "stream",
     "text": [
      "currentCollectStr is C\n",
      "currentCollectStr is D\n",
      "currentCollectStr is L\n",
      "currentCollectStr is J\n",
      "currentCollectStr is c\n",
      "currentCollectStr is d\n",
      "currentCollectStr is e\n",
      "currentCollectStr is f\n"
     ]
    },
    {
     "data": {
      "text/plain": [
       "[<hij.ABCMetadata 'X:1'>,\n",
       " <hij.ABCMetadata 'T:HIJ Demo'>,\n",
       " <hij.ABCMetadata 'M:4/4'>,\n",
       " <hij.ABCMetadata 'L:1/4'>,\n",
       " <hij.ABCMetadata 'K:G'>,\n",
       " <hij.ABCBar '|'>,\n",
       " <hij.ABCNote 'C'>,\n",
       " <hij.ABCNote 'D'>,\n",
       " <hij.ABCNote 'L'>,\n",
       " <hij.ABCNote 'J'>,\n",
       " <hij.ABCBar '|'>,\n",
       " <hij.ABCBar '|'>,\n",
       " <hij.ABCNote 'c'>,\n",
       " <hij.ABCNote 'd'>,\n",
       " <hij.ABCNote 'e'>,\n",
       " <hij.ABCNote 'f'>,\n",
       " <hij.ABCBar '|'>]"
      ]
     },
     "execution_count": 2,
     "metadata": {},
     "output_type": "execute_result"
    }
   ],
   "source": [
    "import hij\n",
    "\n",
    "h = hij.ABCHandler()\n",
    "h.process(\"\"\"\n",
    "X:1\n",
    "T:HIJ Demo\n",
    "M:4/4\n",
    "L:1/4\n",
    "K:G\n",
    "% start score\n",
    "| CDLJ |!\n",
    "| cdlj |!\n",
    "| cdef |!\n",
    "| hijk |!\n",
    "\"\"\")\n",
    "\n",
    "h.tokens\n"
   ]
  }
 ],
 "metadata": {
  "kernelspec": {
   "display_name": "Python 3 (ipykernel)",
   "language": "python",
   "name": "python3"
  },
  "language_info": {
   "codemirror_mode": {
    "name": "ipython",
    "version": 3
   },
   "file_extension": ".py",
   "mimetype": "text/x-python",
   "name": "python",
   "nbconvert_exporter": "python",
   "pygments_lexer": "ipython3",
   "version": "3.11.8"
  }
 },
 "nbformat": 4,
 "nbformat_minor": 5
}
