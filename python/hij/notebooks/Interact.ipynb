{
 "cells": [
  {
   "cell_type": "code",
   "execution_count": 9,
   "id": "4785fd7f-7c4c-4346-8613-d8c5cc2b9c50",
   "metadata": {},
   "outputs": [
    {
     "name": "stdout",
     "output_type": "stream",
     "text": [
      "The autoreload extension is already loaded. To reload it, use:\n",
      "  %reload_ext autoreload\n"
     ]
    },
    {
     "data": {
      "text/plain": [
       "{'directoryScratch': None,\n",
       " 'lilypondPath': PosixPath('/nix/store/2ckcdbzfvzqwyqw9nnkz6rf935xws5zk-lilypond-2.24.3/bin/lilypond'),\n",
       " 'lilypondVersion': '2.24.3',\n",
       " 'lilypondFormat': 'pdf',\n",
       " 'lilypondBackend': 'ps',\n",
       " 'musicxmlPath': PosixPath('/Applications/MuseScore 4.app/Contents/MacOS/mscore'),\n",
       " 'midiPath': PosixPath('/Applications/GarageBand.app'),\n",
       " 'graphicsPath': PosixPath('/System/Applications/Preview.app'),\n",
       " 'vectorPath': PosixPath('/System/Applications/Preview.app'),\n",
       " 'pdfPath': PosixPath('/System/Applications/Preview.app'),\n",
       " 'braillePath': None,\n",
       " 'musescoreDirectPNGPath': PosixPath('/Applications/MuseScore 4.app/Contents/MacOS/mscore'),\n",
       " 'showFormat': 'musicxml',\n",
       " 'writeFormat': 'musicxml',\n",
       " 'ipythonShowFormat': 'ipython.musicxml.png',\n",
       " 'autoDownload': 'ask',\n",
       " 'debug': 0,\n",
       " 'warnings': '1',\n",
       " 'localCorpusSettings': LocalCorpusSettings([]),\n",
       " 'localCorporaSettings': {},\n",
       " 'manualCoreCorpusPath': None,\n",
       " 'localCorpusPath': None}"
      ]
     },
     "execution_count": 9,
     "metadata": {},
     "output_type": "execute_result"
    }
   ],
   "source": [
    "%load_ext autoreload\n",
    "%autoreload 2\n",
    "%run music21_helpers.py\n",
    "initialize_music21()"
   ]
  },
  {
   "cell_type": "code",
   "execution_count": null,
   "id": "a6339594-aab2-49d6-9332-a3da1c426d50",
   "metadata": {},
   "outputs": [],
   "source": []
  },
  {
   "cell_type": "code",
   "execution_count": null,
   "id": "d09e24fd-e02d-4b22-9132-654513100cec",
   "metadata": {},
   "outputs": [],
   "source": []
  }
 ],
 "metadata": {
  "kernelspec": {
   "display_name": "Python 3 (ipykernel)",
   "language": "python",
   "name": "python3"
  },
  "language_info": {
   "codemirror_mode": {
    "name": "ipython",
    "version": 3
   },
   "file_extension": ".py",
   "mimetype": "text/x-python",
   "name": "python",
   "nbconvert_exporter": "python",
   "pygments_lexer": "ipython3",
   "version": "3.12.7"
  }
 },
 "nbformat": 4,
 "nbformat_minor": 5
}
